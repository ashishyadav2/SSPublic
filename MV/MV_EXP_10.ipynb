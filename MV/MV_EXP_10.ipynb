{
 "cells": [
  {
   "cell_type": "code",
   "execution_count": 2,
   "metadata": {},
   "outputs": [
    {
     "name": "stderr",
     "output_type": "stream",
     "text": [
      "C:\\Users\\Ashish Yadav\\AppData\\Roaming\\Python\\Python311\\site-packages\\sklearn\\cluster\\_kmeans.py:1412: FutureWarning: The default value of `n_init` will change from 10 to 'auto' in 1.4. Set the value of `n_init` explicitly to suppress the warning\n",
      "  super()._check_params_vs_input(X, default_n_init=10)\n"
     ]
    },
    {
     "ename": "ValueError",
     "evalue": "Found input variables with inconsistent numbers of samples: [7035, 4]",
     "output_type": "error",
     "traceback": [
      "\u001b[1;31m---------------------------------------------------------------------------\u001b[0m",
      "\u001b[1;31mValueError\u001b[0m                                Traceback (most recent call last)",
      "\u001b[1;32mg:\\Ashish Yadav\\Backup Google Drive\\Documents-Lecture\\SEM 7\\7. Public Repository\\SSPublic\\MV\\MV_EXP_10.ipynb Cell 1\u001b[0m line \u001b[0;36m6\n\u001b[0;32m     <a href='vscode-notebook-cell:/g%3A/Ashish%20Yadav/Backup%20Google%20Drive/Documents-Lecture/SEM%207/7.%20Public%20Repository/SSPublic/MV/MV_EXP_10.ipynb#W0sZmlsZQ%3D%3D?line=57'>58</a>\u001b[0m labels \u001b[39m=\u001b[39m np\u001b[39m.\u001b[39marray([\u001b[39m1\u001b[39m, \u001b[39m1\u001b[39m, \u001b[39m0\u001b[39m, \u001b[39m0\u001b[39m])\n\u001b[0;32m     <a href='vscode-notebook-cell:/g%3A/Ashish%20Yadav/Backup%20Google%20Drive/Documents-Lecture/SEM%207/7.%20Public%20Repository/SSPublic/MV/MV_EXP_10.ipynb#W0sZmlsZQ%3D%3D?line=59'>60</a>\u001b[0m \u001b[39m# Step 4: Train the classifier\u001b[39;00m\n\u001b[1;32m---> <a href='vscode-notebook-cell:/g%3A/Ashish%20Yadav/Backup%20Google%20Drive/Documents-Lecture/SEM%207/7.%20Public%20Repository/SSPublic/MV/MV_EXP_10.ipynb#W0sZmlsZQ%3D%3D?line=60'>61</a>\u001b[0m classifier \u001b[39m=\u001b[39m train_classifier(features, labels)\n\u001b[0;32m     <a href='vscode-notebook-cell:/g%3A/Ashish%20Yadav/Backup%20Google%20Drive/Documents-Lecture/SEM%207/7.%20Public%20Repository/SSPublic/MV/MV_EXP_10.ipynb#W0sZmlsZQ%3D%3D?line=62'>63</a>\u001b[0m \u001b[39m# Step 5: Detect objects in a scene\u001b[39;00m\n\u001b[0;32m     <a href='vscode-notebook-cell:/g%3A/Ashish%20Yadav/Backup%20Google%20Drive/Documents-Lecture/SEM%207/7.%20Public%20Repository/SSPublic/MV/MV_EXP_10.ipynb#W0sZmlsZQ%3D%3D?line=63'>64</a>\u001b[0m scene_image \u001b[39m=\u001b[39m \u001b[39m'\u001b[39m\u001b[39mscene.jpg\u001b[39m\u001b[39m'\u001b[39m\n",
      "\u001b[1;32mg:\\Ashish Yadav\\Backup Google Drive\\Documents-Lecture\\SEM 7\\7. Public Repository\\SSPublic\\MV\\MV_EXP_10.ipynb Cell 1\u001b[0m line \u001b[0;36m3\n\u001b[0;32m     <a href='vscode-notebook-cell:/g%3A/Ashish%20Yadav/Backup%20Google%20Drive/Documents-Lecture/SEM%207/7.%20Public%20Repository/SSPublic/MV/MV_EXP_10.ipynb#W0sZmlsZQ%3D%3D?line=36'>37</a>\u001b[0m \u001b[39mdef\u001b[39;00m \u001b[39mtrain_classifier\u001b[39m(data, labels):\n\u001b[0;32m     <a href='vscode-notebook-cell:/g%3A/Ashish%20Yadav/Backup%20Google%20Drive/Documents-Lecture/SEM%207/7.%20Public%20Repository/SSPublic/MV/MV_EXP_10.ipynb#W0sZmlsZQ%3D%3D?line=37'>38</a>\u001b[0m     classifier \u001b[39m=\u001b[39m SVC()\n\u001b[1;32m---> <a href='vscode-notebook-cell:/g%3A/Ashish%20Yadav/Backup%20Google%20Drive/Documents-Lecture/SEM%207/7.%20Public%20Repository/SSPublic/MV/MV_EXP_10.ipynb#W0sZmlsZQ%3D%3D?line=38'>39</a>\u001b[0m     classifier\u001b[39m.\u001b[39;49mfit(data, labels)\n\u001b[0;32m     <a href='vscode-notebook-cell:/g%3A/Ashish%20Yadav/Backup%20Google%20Drive/Documents-Lecture/SEM%207/7.%20Public%20Repository/SSPublic/MV/MV_EXP_10.ipynb#W0sZmlsZQ%3D%3D?line=39'>40</a>\u001b[0m     \u001b[39mreturn\u001b[39;00m classifier\n",
      "File \u001b[1;32m~\\AppData\\Roaming\\Python\\Python311\\site-packages\\sklearn\\base.py:1151\u001b[0m, in \u001b[0;36m_fit_context.<locals>.decorator.<locals>.wrapper\u001b[1;34m(estimator, *args, **kwargs)\u001b[0m\n\u001b[0;32m   1144\u001b[0m     estimator\u001b[39m.\u001b[39m_validate_params()\n\u001b[0;32m   1146\u001b[0m \u001b[39mwith\u001b[39;00m config_context(\n\u001b[0;32m   1147\u001b[0m     skip_parameter_validation\u001b[39m=\u001b[39m(\n\u001b[0;32m   1148\u001b[0m         prefer_skip_nested_validation \u001b[39mor\u001b[39;00m global_skip_validation\n\u001b[0;32m   1149\u001b[0m     )\n\u001b[0;32m   1150\u001b[0m ):\n\u001b[1;32m-> 1151\u001b[0m     \u001b[39mreturn\u001b[39;00m fit_method(estimator, \u001b[39m*\u001b[39;49margs, \u001b[39m*\u001b[39;49m\u001b[39m*\u001b[39;49mkwargs)\n",
      "File \u001b[1;32m~\\AppData\\Roaming\\Python\\Python311\\site-packages\\sklearn\\svm\\_base.py:190\u001b[0m, in \u001b[0;36mBaseLibSVM.fit\u001b[1;34m(self, X, y, sample_weight)\u001b[0m\n\u001b[0;32m    188\u001b[0m     check_consistent_length(X, y)\n\u001b[0;32m    189\u001b[0m \u001b[39melse\u001b[39;00m:\n\u001b[1;32m--> 190\u001b[0m     X, y \u001b[39m=\u001b[39m \u001b[39mself\u001b[39;49m\u001b[39m.\u001b[39;49m_validate_data(\n\u001b[0;32m    191\u001b[0m         X,\n\u001b[0;32m    192\u001b[0m         y,\n\u001b[0;32m    193\u001b[0m         dtype\u001b[39m=\u001b[39;49mnp\u001b[39m.\u001b[39;49mfloat64,\n\u001b[0;32m    194\u001b[0m         order\u001b[39m=\u001b[39;49m\u001b[39m\"\u001b[39;49m\u001b[39mC\u001b[39;49m\u001b[39m\"\u001b[39;49m,\n\u001b[0;32m    195\u001b[0m         accept_sparse\u001b[39m=\u001b[39;49m\u001b[39m\"\u001b[39;49m\u001b[39mcsr\u001b[39;49m\u001b[39m\"\u001b[39;49m,\n\u001b[0;32m    196\u001b[0m         accept_large_sparse\u001b[39m=\u001b[39;49m\u001b[39mFalse\u001b[39;49;00m,\n\u001b[0;32m    197\u001b[0m     )\n\u001b[0;32m    199\u001b[0m y \u001b[39m=\u001b[39m \u001b[39mself\u001b[39m\u001b[39m.\u001b[39m_validate_targets(y)\n\u001b[0;32m    201\u001b[0m sample_weight \u001b[39m=\u001b[39m np\u001b[39m.\u001b[39masarray(\n\u001b[0;32m    202\u001b[0m     [] \u001b[39mif\u001b[39;00m sample_weight \u001b[39mis\u001b[39;00m \u001b[39mNone\u001b[39;00m \u001b[39melse\u001b[39;00m sample_weight, dtype\u001b[39m=\u001b[39mnp\u001b[39m.\u001b[39mfloat64\n\u001b[0;32m    203\u001b[0m )\n",
      "File \u001b[1;32m~\\AppData\\Roaming\\Python\\Python311\\site-packages\\sklearn\\base.py:621\u001b[0m, in \u001b[0;36mBaseEstimator._validate_data\u001b[1;34m(self, X, y, reset, validate_separately, cast_to_ndarray, **check_params)\u001b[0m\n\u001b[0;32m    619\u001b[0m         y \u001b[39m=\u001b[39m check_array(y, input_name\u001b[39m=\u001b[39m\u001b[39m\"\u001b[39m\u001b[39my\u001b[39m\u001b[39m\"\u001b[39m, \u001b[39m*\u001b[39m\u001b[39m*\u001b[39mcheck_y_params)\n\u001b[0;32m    620\u001b[0m     \u001b[39melse\u001b[39;00m:\n\u001b[1;32m--> 621\u001b[0m         X, y \u001b[39m=\u001b[39m check_X_y(X, y, \u001b[39m*\u001b[39;49m\u001b[39m*\u001b[39;49mcheck_params)\n\u001b[0;32m    622\u001b[0m     out \u001b[39m=\u001b[39m X, y\n\u001b[0;32m    624\u001b[0m \u001b[39mif\u001b[39;00m \u001b[39mnot\u001b[39;00m no_val_X \u001b[39mand\u001b[39;00m check_params\u001b[39m.\u001b[39mget(\u001b[39m\"\u001b[39m\u001b[39mensure_2d\u001b[39m\u001b[39m\"\u001b[39m, \u001b[39mTrue\u001b[39;00m):\n",
      "File \u001b[1;32m~\\AppData\\Roaming\\Python\\Python311\\site-packages\\sklearn\\utils\\validation.py:1165\u001b[0m, in \u001b[0;36mcheck_X_y\u001b[1;34m(X, y, accept_sparse, accept_large_sparse, dtype, order, copy, force_all_finite, ensure_2d, allow_nd, multi_output, ensure_min_samples, ensure_min_features, y_numeric, estimator)\u001b[0m\n\u001b[0;32m   1147\u001b[0m X \u001b[39m=\u001b[39m check_array(\n\u001b[0;32m   1148\u001b[0m     X,\n\u001b[0;32m   1149\u001b[0m     accept_sparse\u001b[39m=\u001b[39maccept_sparse,\n\u001b[1;32m   (...)\u001b[0m\n\u001b[0;32m   1160\u001b[0m     input_name\u001b[39m=\u001b[39m\u001b[39m\"\u001b[39m\u001b[39mX\u001b[39m\u001b[39m\"\u001b[39m,\n\u001b[0;32m   1161\u001b[0m )\n\u001b[0;32m   1163\u001b[0m y \u001b[39m=\u001b[39m _check_y(y, multi_output\u001b[39m=\u001b[39mmulti_output, y_numeric\u001b[39m=\u001b[39my_numeric, estimator\u001b[39m=\u001b[39mestimator)\n\u001b[1;32m-> 1165\u001b[0m check_consistent_length(X, y)\n\u001b[0;32m   1167\u001b[0m \u001b[39mreturn\u001b[39;00m X, y\n",
      "File \u001b[1;32m~\\AppData\\Roaming\\Python\\Python311\\site-packages\\sklearn\\utils\\validation.py:409\u001b[0m, in \u001b[0;36mcheck_consistent_length\u001b[1;34m(*arrays)\u001b[0m\n\u001b[0;32m    407\u001b[0m uniques \u001b[39m=\u001b[39m np\u001b[39m.\u001b[39munique(lengths)\n\u001b[0;32m    408\u001b[0m \u001b[39mif\u001b[39;00m \u001b[39mlen\u001b[39m(uniques) \u001b[39m>\u001b[39m \u001b[39m1\u001b[39m:\n\u001b[1;32m--> 409\u001b[0m     \u001b[39mraise\u001b[39;00m \u001b[39mValueError\u001b[39;00m(\n\u001b[0;32m    410\u001b[0m         \u001b[39m\"\u001b[39m\u001b[39mFound input variables with inconsistent numbers of samples: \u001b[39m\u001b[39m%r\u001b[39;00m\u001b[39m\"\u001b[39m\n\u001b[0;32m    411\u001b[0m         \u001b[39m%\u001b[39m [\u001b[39mint\u001b[39m(l) \u001b[39mfor\u001b[39;00m l \u001b[39min\u001b[39;00m lengths]\n\u001b[0;32m    412\u001b[0m     )\n",
      "\u001b[1;31mValueError\u001b[0m: Found input variables with inconsistent numbers of samples: [7035, 4]"
     ]
    }
   ],
   "source": [
    "import cv2\n",
    "import numpy as np\n",
    "from sklearn.cluster import KMeans\n",
    "# Step 1: Extract features from images\n",
    "def extract_features(image_path):\n",
    "    # Load the image\n",
    "    image = cv2.imread(image_path)\n",
    "    gray = cv2.cvtColor(image, cv2.COLOR_BGR2GRAY)\n",
    "    # Use a feature descriptor like SIFT or ORB to extract keypoints and descriptors\n",
    "    sift = cv2.SIFT_create()\n",
    "    keypoints, descriptors = sift.detectAndCompute(gray, None)\n",
    "    return descriptors\n",
    "# Step 2: Create a dataset of features\n",
    "def create_feature_dataset(image_paths):\n",
    "    features = []\n",
    "    for path in image_paths:\n",
    "        features.extend(extract_features(path))\n",
    "    return np.array(features)\n",
    "    # Step 3: Cluster features into visual words\n",
    "def cluster_features(features, num_clusters):\n",
    "    kmeans = KMeans(n_clusters=num_clusters, random_state=0).fit(features)\n",
    "    return kmeans.cluster_centers_\n",
    "# Step 4: Represent images using visual words (BoW representa􀆟on)\n",
    "def bow_representation(image_path, visual_words):\n",
    "    features = extract_features(image_path)\n",
    "    kmeans = KMeans(init=visual_words, n_clusters=visual_words.shape[0], n_init=1)\n",
    "    kmeans.cluster_centers_ = visual_words\n",
    "    bow_features = np.histogram(kmeans.predict(features), bins=np.arange(visual_words.shape[0]+1))[0]\n",
    "    return bow_features\n",
    "# Step 5: Train a classifier (e.g., SVM) using BoW representa􀆟ons\n",
    "from sklearn.svm import SVC\n",
    "def train_classifier(data, labels):\n",
    "    classifier = SVC()\n",
    "    classifier.fit(data, labels)\n",
    "    return classifier\n",
    "# Step 6: Detect objects in a scene\n",
    "def detect_objects(scene_image, classifier, visual_words):\n",
    "    bow_features = bow_representation(scene_image, visual_words)\n",
    "    return classifier.predict([bow_features])\n",
    "# Example usage\n",
    "if __name__ == \"__main__\":\n",
    "    # Step 1: Extract features from a set of images\n",
    "    image_paths = ['car1.jpg', 'car2.jpg', 'not_car1.jpg', 'not_car2.jpg']\n",
    "    features = create_feature_dataset(image_paths)\n",
    "    # Step 2: Cluster features into visual words\n",
    "    num_clusters = 100\n",
    "    visual_words = cluster_features(features, num_clusters)\n",
    "    # Step 3: Create labels for the dataset (1 for objects, 0 for non-objects)\n",
    "    labels = np.array([1, 1, 0, 0])\n",
    "    # Step 4: Train the classifier\n",
    "    classifier = train_classifier(features, labels)\n",
    "    # Step 5: Detect objects in a scene\n",
    "    scene_image = 'scene.jpg'\n",
    "    result = detect_objects(scene_image, classifier, visual_words)\n",
    "    print(f\"The scene contains {'objects' if result[0] == 1 else 'no objects'}.\")"
   ]
  }
 ],
 "metadata": {
  "kernelspec": {
   "display_name": "Python 3",
   "language": "python",
   "name": "python3"
  },
  "language_info": {
   "codemirror_mode": {
    "name": "ipython",
    "version": 3
   },
   "file_extension": ".py",
   "mimetype": "text/x-python",
   "name": "python",
   "nbconvert_exporter": "python",
   "pygments_lexer": "ipython3",
   "version": "3.11.4"
  }
 },
 "nbformat": 4,
 "nbformat_minor": 2
}
